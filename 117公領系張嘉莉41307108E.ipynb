{
  "nbformat": 4,
  "nbformat_minor": 0,
  "metadata": {
    "colab": {
      "provenance": []
    },
    "kernelspec": {
      "name": "python3",
      "display_name": "Python 3"
    },
    "language_info": {
      "name": "python"
    }
  },
  "cells": [
    {
      "cell_type": "code",
      "execution_count": 13,
      "metadata": {
        "colab": {
          "base_uri": "https://localhost:8080/"
        },
        "id": "RmsfudwuXTfM",
        "outputId": "62ce0f22-768e-40fb-c921-26a692d148ef"
      },
      "outputs": [
        {
          "output_type": "stream",
          "name": "stdout",
          "text": [
            "11\n"
          ]
        }
      ],
      "source": [
        "a='Hello World'\n",
        "print(len(a))"
      ]
    },
    {
      "cell_type": "code",
      "source": [
        "a='SOOBIN is my husband🐰♡⁠'\n",
        "print(a)"
      ],
      "metadata": {
        "colab": {
          "base_uri": "https://localhost:8080/"
        },
        "id": "IDOY3nZ5bk5C",
        "outputId": "7309827b-122b-4aec-ad87-69113903a85d"
      },
      "execution_count": 16,
      "outputs": [
        {
          "output_type": "stream",
          "name": "stdout",
          "text": [
            "SOOBIN is my husband🐰♡⁠\n"
          ]
        }
      ]
    },
    {
      "cell_type": "code",
      "source": [
        "a='I like your style.'\n",
        "print(a[:10])\n"
      ],
      "metadata": {
        "colab": {
          "base_uri": "https://localhost:8080/"
        },
        "id": "_vbANu7ud4Yx",
        "outputId": "6725eed1-dc41-4c64-a791-ccb0019407df"
      },
      "execution_count": 17,
      "outputs": [
        {
          "output_type": "stream",
          "name": "stdout",
          "text": [
            "I like you\n"
          ]
        }
      ]
    },
    {
      "cell_type": "code",
      "source": [
        "a=2\n",
        "b=3\n",
        "if a>b:\n",
        "   print('hello')\n",
        "else:\n",
        "   print('world')\n",
        "print('ok')"
      ],
      "metadata": {
        "colab": {
          "base_uri": "https://localhost:8080/"
        },
        "id": "I08QxbDNroA3",
        "outputId": "7f4af11e-1e2c-4437-ae11-c6104cdb705c"
      },
      "execution_count": 18,
      "outputs": [
        {
          "output_type": "stream",
          "name": "stdout",
          "text": [
            "world\n",
            "ok\n"
          ]
        }
      ]
    },
    {
      "cell_type": "code",
      "source": [
        "a=9\n",
        "b=3\n",
        "if a>b:\n",
        "   print('a>b')\n",
        "   if a==1:\n",
        "     print('a=1')\n",
        "   elif a==2:\n",
        "     print('a=2')\n",
        "\n",
        "elif a<b:\n",
        "   print('a<b')"
      ],
      "metadata": {
        "colab": {
          "base_uri": "https://localhost:8080/"
        },
        "id": "uzGHCHiCthmg",
        "outputId": "adf30199-d9d7-43fe-81fb-0ddbd9f150c7"
      },
      "execution_count": 22,
      "outputs": [
        {
          "output_type": "stream",
          "name": "stdout",
          "text": [
            "a>b\n"
          ]
        }
      ]
    },
    {
      "cell_type": "markdown",
      "source": [],
      "metadata": {
        "id": "clIsPgcWbeff"
      }
    }
  ]
}