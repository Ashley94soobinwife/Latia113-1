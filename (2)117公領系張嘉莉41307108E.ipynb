{
  "nbformat": 4,
  "nbformat_minor": 0,
  "metadata": {
    "colab": {
      "provenance": []
    },
    "kernelspec": {
      "name": "python3",
      "display_name": "Python 3"
    },
    "language_info": {
      "name": "python"
    }
  },
  "cells": [
    {
      "cell_type": "code",
      "execution_count": null,
      "metadata": {
        "colab": {
          "base_uri": "https://localhost:8080/"
        },
        "id": "RmsfudwuXTfM",
        "outputId": "62ce0f22-768e-40fb-c921-26a692d148ef"
      },
      "outputs": [
        {
          "output_type": "stream",
          "name": "stdout",
          "text": [
            "11\n"
          ]
        }
      ],
      "source": [
        "a='Hello World'\n",
        "print(len(a))"
      ]
    },
    {
      "cell_type": "code",
      "source": [
        "a='SOOBIN is my husband🐰♡⁠'\n",
        "print(a)"
      ],
      "metadata": {
        "colab": {
          "base_uri": "https://localhost:8080/"
        },
        "id": "IDOY3nZ5bk5C",
        "outputId": "7309827b-122b-4aec-ad87-69113903a85d"
      },
      "execution_count": null,
      "outputs": [
        {
          "output_type": "stream",
          "name": "stdout",
          "text": [
            "SOOBIN is my husband🐰♡⁠\n"
          ]
        }
      ]
    },
    {
      "cell_type": "code",
      "source": [
        "a='I like your style.'\n",
        "print(a[:10])\n"
      ],
      "metadata": {
        "colab": {
          "base_uri": "https://localhost:8080/"
        },
        "id": "_vbANu7ud4Yx",
        "outputId": "6725eed1-dc41-4c64-a791-ccb0019407df"
      },
      "execution_count": null,
      "outputs": [
        {
          "output_type": "stream",
          "name": "stdout",
          "text": [
            "I like you\n"
          ]
        }
      ]
    },
    {
      "cell_type": "code",
      "source": [
        "a=2\n",
        "b=3\n",
        "if a>b:\n",
        "   print('hello')\n",
        "else:\n",
        "   print('world')\n",
        "print('ok')"
      ],
      "metadata": {
        "colab": {
          "base_uri": "https://localhost:8080/"
        },
        "id": "I08QxbDNroA3",
        "outputId": "7f4af11e-1e2c-4437-ae11-c6104cdb705c"
      },
      "execution_count": null,
      "outputs": [
        {
          "output_type": "stream",
          "name": "stdout",
          "text": [
            "world\n",
            "ok\n"
          ]
        }
      ]
    },
    {
      "cell_type": "code",
      "source": [
        "a=9\n",
        "b=3\n",
        "if a>b:\n",
        "   print('a>b')\n",
        "   if a==1:\n",
        "     print('a=1')\n",
        "   elif a==2:\n",
        "     print('a=2')\n",
        "\n",
        "elif a<b:\n",
        "   print('a<b')"
      ],
      "metadata": {
        "colab": {
          "base_uri": "https://localhost:8080/"
        },
        "id": "uzGHCHiCthmg",
        "outputId": "adf30199-d9d7-43fe-81fb-0ddbd9f150c7"
      },
      "execution_count": null,
      "outputs": [
        {
          "output_type": "stream",
          "name": "stdout",
          "text": [
            "a>b\n"
          ]
        }
      ]
    },
    {
      "cell_type": "markdown",
      "source": [
        "def hello():\n",
        "   print('hello')\n",
        "hello()\n",
        "\n"
      ],
      "metadata": {
        "id": "clIsPgcWbeff"
      }
    },
    {
      "cell_type": "code",
      "source": [
        "def hello():\n",
        "   print('hello')\n",
        "hello()\n",
        "\n"
      ],
      "metadata": {
        "colab": {
          "base_uri": "https://localhost:8080/"
        },
        "id": "VSg4zA2JXaeK",
        "outputId": "b1e2441a-a5ca-46b2-94ea-2c8fb5dd0c45"
      },
      "execution_count": 1,
      "outputs": [
        {
          "output_type": "stream",
          "name": "stdout",
          "text": [
            "hello\n"
          ]
        }
      ]
    },
    {
      "cell_type": "code",
      "source": [
        "def hello(msg):\n",
        "   print(msg)\n",
        "hello('hello')\n",
        "hello('Good morning')"
      ],
      "metadata": {
        "colab": {
          "base_uri": "https://localhost:8080/"
        },
        "id": "-rPj8yDDYgJa",
        "outputId": "0076fed7-2947-4615-ab43-ea0512fb1079"
      },
      "execution_count": 3,
      "outputs": [
        {
          "output_type": "stream",
          "name": "stdout",
          "text": [
            "hello\n",
            "Good morning\n"
          ]
        }
      ]
    },
    {
      "cell_type": "code",
      "source": [
        "def hello(x=12,y=5):\n",
        "   z = x + y\n",
        "   print(z)\n",
        "hello()\n",
        "\n"
      ],
      "metadata": {
        "colab": {
          "base_uri": "https://localhost:8080/"
        },
        "id": "qhwG0gzuZKcq",
        "outputId": "3ad44404-217f-4404-d433-208290b1fb7e"
      },
      "execution_count": 22,
      "outputs": [
        {
          "output_type": "stream",
          "name": "stdout",
          "text": [
            "17\n"
          ]
        }
      ]
    },
    {
      "cell_type": "code",
      "source": [
        "def hell0(name,age):\n",
        "  msg=f'{name} is {age} years old'\n",
        "  print(msg)\n",
        "hell0('SOOBIN',24)"
      ],
      "metadata": {
        "colab": {
          "base_uri": "https://localhost:8080/"
        },
        "id": "xNjO_yf2iIko",
        "outputId": "9fcf3585-237c-4742-cdfa-5218c642c699"
      },
      "execution_count": 28,
      "outputs": [
        {
          "output_type": "stream",
          "name": "stdout",
          "text": [
            "SOOBIN is 24 years old\n"
          ]
        }
      ]
    },
    {
      "cell_type": "code",
      "source": [
        "def a(x,y):\n",
        "  result=x+y*2\n",
        "  return result\n",
        "\n",
        "b=a(1,2)\n",
        "c=a(2,3)\n",
        "\n",
        "print(b,c)"
      ],
      "metadata": {
        "colab": {
          "base_uri": "https://localhost:8080/"
        },
        "id": "AUltWsF7jjsv",
        "outputId": "9f7c966f-cf1d-441a-f533-a2397023a596"
      },
      "execution_count": 34,
      "outputs": [
        {
          "output_type": "stream",
          "name": "stdout",
          "text": [
            "5 8\n"
          ]
        }
      ]
    },
    {
      "cell_type": "code",
      "source": [
        "def a(x):\n",
        "  result=0\n",
        "  while result < 10:\n",
        "    result=result+x\n",
        "    if result==5:\n",
        "       return result\n",
        "    return result\n",
        "\n",
        "b = a(1)\n",
        "c = a(2)"
      ],
      "metadata": {
        "id": "Fb1i275wndng"
      },
      "execution_count": 44,
      "outputs": []
    },
    {
      "cell_type": "code",
      "source": [
        "print(b)"
      ],
      "metadata": {
        "colab": {
          "base_uri": "https://localhost:8080/"
        },
        "id": "McDeVwhdwI-i",
        "outputId": "60649363-0dd8-4166-f0cc-09ecf6c929e6"
      },
      "execution_count": 45,
      "outputs": [
        {
          "output_type": "stream",
          "name": "stdout",
          "text": [
            "1\n"
          ]
        }
      ]
    },
    {
      "cell_type": "code",
      "source": [],
      "metadata": {
        "id": "hrbJS8AexMPX"
      },
      "execution_count": null,
      "outputs": []
    }
  ]
}